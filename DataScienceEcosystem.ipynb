{
 "cells": [
  {
   "cell_type": "markdown",
   "id": "2ea440dd-2e8e-4442-bb56-7a06facdd00c",
   "metadata": {},
   "source": [
    "# Data Science Tools and Ecosystem"
   ]
  },
  {
   "cell_type": "markdown",
   "id": "5a79c5fa-e3da-46ce-b977-186288afed58",
   "metadata": {},
   "source": [
    "In this notebook, Data Science Tools and Ecosystem are summarized."
   ]
  },
  {
   "cell_type": "markdown",
   "id": "497c7ea6-9899-4de0-b97f-f848b06a6858",
   "metadata": {},
   "source": [
    "Some of the popular languages that Data Scientists use are:\n",
    "1. Python\n",
    "2. R-Programming\n",
    "3. SQL\n",
    "4. Ruby"
   ]
  },
  {
   "cell_type": "markdown",
   "id": "e3f285f3-8ae4-41e6-9a6e-3f4f02bf7a2a",
   "metadata": {},
   "source": [
    "Some of the commonly used libraries used by Data Scientists include:\n",
    "1. ggplot\n",
    "2. numpy\n",
    "3. pandas\n",
    "4. matplotlib"
   ]
  },
  {
   "cell_type": "markdown",
   "id": "9109edfc-2dcb-45d4-b977-5440c2732f69",
   "metadata": {},
   "source": [
    "|Data Science Tools|\n",
    "|:------------------|\n",
    "|R studio|\n",
    "|Keras|\n",
    "|Tensorflow|"
   ]
  },
  {
   "cell_type": "markdown",
   "id": "7ca3567b-7bc1-4076-a754-2cac08ff99ff",
   "metadata": {},
   "source": [
    "Objectives:\n",
    "* Write an introductory sentence about the notebook\n",
    "* List popular languages for Data Science\n",
    "* List some of the commonly used libraries used by Data Scientists"
   ]
  },
  {
   "cell_type": "markdown",
   "id": "577e0b8f-799a-4de1-8dbd-47beda838a58",
   "metadata": {},
   "source": [
    "### Below are a few examples of evaluating arithmetic expressions in Python"
   ]
  },
  {
   "cell_type": "code",
   "execution_count": 7,
   "id": "7aaa125b-a502-476d-8aa1-825a3843ac76",
   "metadata": {
    "jupyter": {
     "source_hidden": true
    }
   },
   "outputs": [
    {
     "data": {
      "text/plain": [
       "17"
      ]
     },
     "execution_count": 7,
     "metadata": {},
     "output_type": "execute_result"
    }
   ],
   "source": [
    "# This a simple arithmetic expression to mutiply then add integers\n",
    "(3*4)+5"
   ]
  },
  {
   "cell_type": "code",
   "execution_count": 8,
   "id": "31e75bef-3337-495f-9063-94dd59e2f281",
   "metadata": {},
   "outputs": [
    {
     "data": {
      "text/plain": [
       "3.3333333333333335"
      ]
     },
     "execution_count": 8,
     "metadata": {},
     "output_type": "execute_result"
    }
   ],
   "source": [
    "# This will convert 200 minutes to hours by diving by 60\n",
    "200 / 60"
   ]
  },
  {
   "cell_type": "markdown",
   "id": "47e443cc-bb09-4125-bce0-14309e0a9b94",
   "metadata": {},
   "source": [
    "## Author\n",
    "Pravin Paul P"
   ]
  }
 ],
 "metadata": {
  "kernelspec": {
   "display_name": "Python 3 (ipykernel)",
   "language": "python",
   "name": "python3"
  },
  "language_info": {
   "codemirror_mode": {
    "name": "ipython",
    "version": 3
   },
   "file_extension": ".py",
   "mimetype": "text/x-python",
   "name": "python",
   "nbconvert_exporter": "python",
   "pygments_lexer": "ipython3",
   "version": "3.11.4"
  }
 },
 "nbformat": 4,
 "nbformat_minor": 5
}
